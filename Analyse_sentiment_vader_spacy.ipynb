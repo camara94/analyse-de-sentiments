{
 "cells": [
  {
   "cell_type": "markdown",
   "metadata": {},
   "source": [
    "## Analyse de sentiments avec l'algorithme Vader et le Framework Spacy en Python"
   ]
  },
  {
   "cell_type": "code",
   "execution_count": 27,
   "metadata": {},
   "outputs": [],
   "source": [
    "import pandas as pd\n",
    "import numpy as np\n",
    "from vaderSentiment.vaderSentiment import SentimentIntensityAnalyzer"
   ]
  },
  {
   "cell_type": "code",
   "execution_count": 28,
   "metadata": {},
   "outputs": [],
   "source": [
    "df = pd.read_csv('analyse_sentiment_facebook.csv')"
   ]
  },
  {
   "cell_type": "code",
   "execution_count": 29,
   "metadata": {},
   "outputs": [
    {
     "data": {
      "text/html": [
       "<div>\n",
       "<style scoped>\n",
       "    .dataframe tbody tr th:only-of-type {\n",
       "        vertical-align: middle;\n",
       "    }\n",
       "\n",
       "    .dataframe tbody tr th {\n",
       "        vertical-align: top;\n",
       "    }\n",
       "\n",
       "    .dataframe thead th {\n",
       "        text-align: right;\n",
       "    }\n",
       "</style>\n",
       "<table border=\"1\" class=\"dataframe\">\n",
       "  <thead>\n",
       "    <tr style=\"text-align: right;\">\n",
       "      <th></th>\n",
       "      <th>Avis</th>\n",
       "    </tr>\n",
       "  </thead>\n",
       "  <tbody>\n",
       "    <tr>\n",
       "      <th>0</th>\n",
       "      <td>Une autre matinée Twesswiss pour les facebooke...</td>\n",
       "    </tr>\n",
       "    <tr>\n",
       "      <th>1</th>\n",
       "      <td>Complètement MALADEAchat Local Haut-Richelieu ...</td>\n",
       "    </tr>\n",
       "    <tr>\n",
       "      <th>2</th>\n",
       "      <td>· t1t5 35S71ot5pglo8ct1onams2mo0ar77ebtdre95...</td>\n",
       "    </tr>\n",
       "    <tr>\n",
       "      <th>3</th>\n",
       "      <td>Durant cette pause forcée de Facebook, je me d...</td>\n",
       "    </tr>\n",
       "    <tr>\n",
       "      <th>4</th>\n",
       "      <td>· t1t1335S71 t5pglo8ma1rnsms 2o0ar77e0td1995...</td>\n",
       "    </tr>\n",
       "  </tbody>\n",
       "</table>\n",
       "</div>"
      ],
      "text/plain": [
       "                                                Avis\n",
       "0  Une autre matinée Twesswiss pour les facebooke...\n",
       "1  Complètement MALADEAchat Local Haut-Richelieu ...\n",
       "2    · t1t5 35S71ot5pglo8ct1onams2mo0ar77ebtdre95...\n",
       "3  Durant cette pause forcée de Facebook, je me d...\n",
       "4    · t1t1335S71 t5pglo8ma1rnsms 2o0ar77e0td1995..."
      ]
     },
     "execution_count": 29,
     "metadata": {},
     "output_type": "execute_result"
    }
   ],
   "source": [
    "df.head()"
   ]
  },
  {
   "cell_type": "code",
   "execution_count": 30,
   "metadata": {},
   "outputs": [],
   "source": [
    "model = SentimentIntensityAnalyzer()"
   ]
  },
  {
   "cell_type": "code",
   "execution_count": 31,
   "metadata": {},
   "outputs": [],
   "source": [
    "def get_sentiment(text):\n",
    "    scores = model.polarity_scores(text)\n",
    "    return scores.get('compound')"
   ]
  },
  {
   "cell_type": "code",
   "execution_count": 32,
   "metadata": {},
   "outputs": [
    {
     "name": "stdout",
     "output_type": "stream",
     "text": [
      "Wall time: 226 ms\n"
     ]
    }
   ],
   "source": [
    "%time df['Sentiment'] = np.vectorize(get_sentiment)(df.Avis)"
   ]
  },
  {
   "cell_type": "code",
   "execution_count": 33,
   "metadata": {},
   "outputs": [
    {
     "data": {
      "text/html": [
       "<div>\n",
       "<style scoped>\n",
       "    .dataframe tbody tr th:only-of-type {\n",
       "        vertical-align: middle;\n",
       "    }\n",
       "\n",
       "    .dataframe tbody tr th {\n",
       "        vertical-align: top;\n",
       "    }\n",
       "\n",
       "    .dataframe thead th {\n",
       "        text-align: right;\n",
       "    }\n",
       "</style>\n",
       "<table border=\"1\" class=\"dataframe\">\n",
       "  <thead>\n",
       "    <tr style=\"text-align: right;\">\n",
       "      <th></th>\n",
       "      <th>Avis</th>\n",
       "      <th>Sentiment</th>\n",
       "    </tr>\n",
       "  </thead>\n",
       "  <tbody>\n",
       "    <tr>\n",
       "      <th>0</th>\n",
       "      <td>Une autre matinée Twesswiss pour les facebooke...</td>\n",
       "      <td>-0.6876</td>\n",
       "    </tr>\n",
       "    <tr>\n",
       "      <th>1</th>\n",
       "      <td>Complètement MALADEAchat Local Haut-Richelieu ...</td>\n",
       "      <td>0.0000</td>\n",
       "    </tr>\n",
       "    <tr>\n",
       "      <th>2</th>\n",
       "      <td>· t1t5 35S71ot5pglo8ct1onams2mo0ar77ebtdre95...</td>\n",
       "      <td>0.0000</td>\n",
       "    </tr>\n",
       "    <tr>\n",
       "      <th>3</th>\n",
       "      <td>Durant cette pause forcée de Facebook, je me d...</td>\n",
       "      <td>0.0000</td>\n",
       "    </tr>\n",
       "    <tr>\n",
       "      <th>4</th>\n",
       "      <td>· t1t1335S71 t5pglo8ma1rnsms 2o0ar77e0td1995...</td>\n",
       "      <td>0.0000</td>\n",
       "    </tr>\n",
       "  </tbody>\n",
       "</table>\n",
       "</div>"
      ],
      "text/plain": [
       "                                                Avis  Sentiment\n",
       "0  Une autre matinée Twesswiss pour les facebooke...    -0.6876\n",
       "1  Complètement MALADEAchat Local Haut-Richelieu ...     0.0000\n",
       "2    · t1t5 35S71ot5pglo8ct1onams2mo0ar77ebtdre95...     0.0000\n",
       "3  Durant cette pause forcée de Facebook, je me d...     0.0000\n",
       "4    · t1t1335S71 t5pglo8ma1rnsms 2o0ar77e0td1995...     0.0000"
      ]
     },
     "execution_count": 33,
     "metadata": {},
     "output_type": "execute_result"
    }
   ],
   "source": [
    "df.head()"
   ]
  },
  {
   "cell_type": "code",
   "execution_count": 34,
   "metadata": {},
   "outputs": [],
   "source": [
    "import spacy\n",
    "import re"
   ]
  },
  {
   "cell_type": "code",
   "execution_count": 43,
   "metadata": {},
   "outputs": [],
   "source": [
    "nlp = spacy.load('en_core_web_sm')\n",
    "\n",
    "def get_entities(text):\n",
    "    doc = nlp(text)\n",
    "    list_ = []\n",
    "    for ent in doc.ents:\n",
    "        if ent.label_.lower() not in ('time', 'money', 'date'):\n",
    "            temp_  = re.sub('[^a-z0-9]+', '_', ent.text.lower())\n",
    "            list_.append(' '.join([temp_, ent.label_.upper()]))\n",
    "    return ''.join(list_)"
   ]
  },
  {
   "cell_type": "code",
   "execution_count": 44,
   "metadata": {},
   "outputs": [
    {
     "name": "stdout",
     "output_type": "stream",
     "text": [
      "Wall time: 8.85 s\n"
     ]
    }
   ],
   "source": [
    "%time df['entities'] = np.vectorize(get_entities)(df.Avis)"
   ]
  },
  {
   "cell_type": "markdown",
   "metadata": {},
   "source": [
    "## Sentiments négatifs des utilisateurs sur les réseaux sociaux "
   ]
  },
  {
   "cell_type": "code",
   "execution_count": 71,
   "metadata": {},
   "outputs": [
    {
     "data": {
      "text/html": [
       "<div>\n",
       "<style scoped>\n",
       "    .dataframe tbody tr th:only-of-type {\n",
       "        vertical-align: middle;\n",
       "    }\n",
       "\n",
       "    .dataframe tbody tr th {\n",
       "        vertical-align: top;\n",
       "    }\n",
       "\n",
       "    .dataframe thead th {\n",
       "        text-align: right;\n",
       "    }\n",
       "</style>\n",
       "<table border=\"1\" class=\"dataframe\">\n",
       "  <thead>\n",
       "    <tr style=\"text-align: right;\">\n",
       "      <th></th>\n",
       "      <th>Avis</th>\n",
       "      <th>Sentiment</th>\n",
       "      <th>entities</th>\n",
       "    </tr>\n",
       "  </thead>\n",
       "  <tbody>\n",
       "    <tr>\n",
       "      <th>0</th>\n",
       "      <td>Une autre matinée Twesswiss pour les facebooke...</td>\n",
       "      <td>-0.6876</td>\n",
       "      <td>twesswiss GPEpannefacebook131311 LAWvoir PERSO...</td>\n",
       "    </tr>\n",
       "    <tr>\n",
       "      <th>8</th>\n",
       "      <td>#pannefacebookBonsoir, suite à une panne génér...</td>\n",
       "      <td>-0.5994</td>\n",
       "      <td>_nouveaux PERSONvoir PERSON</td>\n",
       "    </tr>\n",
       "    <tr>\n",
       "      <th>13</th>\n",
       "      <td>CE SOIR TOUT LE MONDE EST CONNECTÉ !Nous avons...</td>\n",
       "      <td>-0.4376</td>\n",
       "      <td>lu PERSONqui_va_d_sormais ORGvoir PERSON</td>\n",
       "    </tr>\n",
       "    <tr>\n",
       "      <th>16</th>\n",
       "      <td>LE CHAOS EST TERMINÉ! Vous êtes toujours là?On...</td>\n",
       "      <td>-0.7620</td>\n",
       "      <td>le_chaos_est ORGl_on PERSON_a_va PERSONremis_d...</td>\n",
       "    </tr>\n",
       "    <tr>\n",
       "      <th>22</th>\n",
       "      <td>La danse saturno-uranienne aura encore fait p...</td>\n",
       "      <td>-0.5255</td>\n",
       "      <td>fait_parler ORGd_elle GPEdans NORPl_lectricit_...</td>\n",
       "    </tr>\n",
       "    <tr>\n",
       "      <th>...</th>\n",
       "      <td>...</td>\n",
       "      <td>...</td>\n",
       "      <td>...</td>\n",
       "    </tr>\n",
       "    <tr>\n",
       "      <th>789</th>\n",
       "      <td>De son côté, le BGP — pour Border Gateway Prot...</td>\n",
       "      <td>-0.7351</td>\n",
       "      <td>bgp ORGatteindre_l_adresse PERSONbgp ORGdu_poi...</td>\n",
       "    </tr>\n",
       "    <tr>\n",
       "      <th>791</th>\n",
       "      <td>En 6heures, il y a certainement eu la possibil...</td>\n",
       "      <td>-0.3182</td>\n",
       "      <td>eu_la_possibilit_ PERSONbien PERSONdis_a PERSO...</td>\n",
       "    </tr>\n",
       "    <tr>\n",
       "      <th>802</th>\n",
       "      <td>Black Friday Amazon : les produits Echo, Kindl...</td>\n",
       "      <td>-0.1779</td>\n",
       "      <td>amazon ORGecho GPEkindle_et_fire_tv ORG</td>\n",
       "    </tr>\n",
       "    <tr>\n",
       "      <th>815</th>\n",
       "      <td>Kawasaki prend d’assaut les motos électriques ...</td>\n",
       "      <td>-0.4588</td>\n",
       "      <td>kawasaki GPEd_assaut NORP</td>\n",
       "    </tr>\n",
       "    <tr>\n",
       "      <th>818</th>\n",
       "      <td>Bornes de recharge : Ionity compte rattraper s...</td>\n",
       "      <td>-0.5267</td>\n",
       "      <td>bornes_de_recharge PERSONsur_tesla PERSON</td>\n",
       "    </tr>\n",
       "  </tbody>\n",
       "</table>\n",
       "<p>67 rows × 3 columns</p>\n",
       "</div>"
      ],
      "text/plain": [
       "                                                  Avis  Sentiment  \\\n",
       "0    Une autre matinée Twesswiss pour les facebooke...    -0.6876   \n",
       "8    #pannefacebookBonsoir, suite à une panne génér...    -0.5994   \n",
       "13   CE SOIR TOUT LE MONDE EST CONNECTÉ !Nous avons...    -0.4376   \n",
       "16   LE CHAOS EST TERMINÉ! Vous êtes toujours là?On...    -0.7620   \n",
       "22    La danse saturno-uranienne aura encore fait p...    -0.5255   \n",
       "..                                                 ...        ...   \n",
       "789  De son côté, le BGP — pour Border Gateway Prot...    -0.7351   \n",
       "791  En 6heures, il y a certainement eu la possibil...    -0.3182   \n",
       "802  Black Friday Amazon : les produits Echo, Kindl...    -0.1779   \n",
       "815  Kawasaki prend d’assaut les motos électriques ...    -0.4588   \n",
       "818  Bornes de recharge : Ionity compte rattraper s...    -0.5267   \n",
       "\n",
       "                                              entities  \n",
       "0    twesswiss GPEpannefacebook131311 LAWvoir PERSO...  \n",
       "8                          _nouveaux PERSONvoir PERSON  \n",
       "13            lu PERSONqui_va_d_sormais ORGvoir PERSON  \n",
       "16   le_chaos_est ORGl_on PERSON_a_va PERSONremis_d...  \n",
       "22   fait_parler ORGd_elle GPEdans NORPl_lectricit_...  \n",
       "..                                                 ...  \n",
       "789  bgp ORGatteindre_l_adresse PERSONbgp ORGdu_poi...  \n",
       "791  eu_la_possibilit_ PERSONbien PERSONdis_a PERSO...  \n",
       "802            amazon ORGecho GPEkindle_et_fire_tv ORG  \n",
       "815                          kawasaki GPEd_assaut NORP  \n",
       "818          bornes_de_recharge PERSONsur_tesla PERSON  \n",
       "\n",
       "[67 rows x 3 columns]"
      ]
     },
     "execution_count": 71,
     "metadata": {},
     "output_type": "execute_result"
    }
   ],
   "source": [
    "sentiment_negative = df[df['Sentiment']<0]\n",
    "sentiment_negative"
   ]
  },
  {
   "cell_type": "markdown",
   "metadata": {},
   "source": [
    "### Pourcentage des sentiments négatives"
   ]
  },
  {
   "cell_type": "code",
   "execution_count": 77,
   "metadata": {},
   "outputs": [
    {
     "name": "stdout",
     "output_type": "stream",
     "text": [
      "LES UTILISATEURS SONT PESSIMISTES A 8.07 %\n"
     ]
    }
   ],
   "source": [
    "pourcentage_sentiment_negative = (len(sentiment_negative)/len(df))*100\n",
    "print(\"LES UTILISATEURS SONT PESSIMISTES A {:.2f} %\".format(pourcentage_sentiment_negative))"
   ]
  },
  {
   "cell_type": "markdown",
   "metadata": {},
   "source": [
    "## Sentiments positifs des utilisateurs sur les réseaux sociaux"
   ]
  },
  {
   "cell_type": "code",
   "execution_count": 78,
   "metadata": {},
   "outputs": [
    {
     "data": {
      "text/html": [
       "<div>\n",
       "<style scoped>\n",
       "    .dataframe tbody tr th:only-of-type {\n",
       "        vertical-align: middle;\n",
       "    }\n",
       "\n",
       "    .dataframe tbody tr th {\n",
       "        vertical-align: top;\n",
       "    }\n",
       "\n",
       "    .dataframe thead th {\n",
       "        text-align: right;\n",
       "    }\n",
       "</style>\n",
       "<table border=\"1\" class=\"dataframe\">\n",
       "  <thead>\n",
       "    <tr style=\"text-align: right;\">\n",
       "      <th></th>\n",
       "      <th>Avis</th>\n",
       "      <th>Sentiment</th>\n",
       "      <th>entities</th>\n",
       "    </tr>\n",
       "  </thead>\n",
       "  <tbody>\n",
       "    <tr>\n",
       "      <th>5</th>\n",
       "      <td>Grace à la panne mondiale que subit actuelleme...</td>\n",
       "      <td>0.5574</td>\n",
       "      <td>10 CARDINALd_ailleurs PERSON2 CARDINAL_ CARDINAL</td>\n",
       "    </tr>\n",
       "    <tr>\n",
       "      <th>30</th>\n",
       "      <td>#Pannefacebook#webgospel#webdaysedition2 Selon...</td>\n",
       "      <td>0.3400</td>\n",
       "      <td>pannefacebook_webgospel_webdaysedition2_selon ...</td>\n",
       "    </tr>\n",
       "    <tr>\n",
       "      <th>31</th>\n",
       "      <td>Happiness FM: Franck Mansuy  Formateur - Anima...</td>\n",
       "      <td>0.5574</td>\n",
       "      <td>franck_mansuy PERSONformateur ORG</td>\n",
       "    </tr>\n",
       "    <tr>\n",
       "      <th>33</th>\n",
       "      <td>La panne géante des réseaux sociaux vous a cer...</td>\n",
       "      <td>0.8020</td>\n",
       "      <td>jouer_des_jeux_de_soci_t_ ORGdans NORPqui GPEc...</td>\n",
       "    </tr>\n",
       "    <tr>\n",
       "      <th>38</th>\n",
       "      <td>#IdéesReçues #CasSociaux #PanneFacebook Le myt...</td>\n",
       "      <td>0.4738</td>\n",
       "      <td>pannefacebook_le PRODUCTmais_la_panne PERSONal...</td>\n",
       "    </tr>\n",
       "    <tr>\n",
       "      <th>...</th>\n",
       "      <td>...</td>\n",
       "      <td>...</td>\n",
       "      <td>...</td>\n",
       "    </tr>\n",
       "    <tr>\n",
       "      <th>738</th>\n",
       "      <td>La pépite française EfficientIP annonce une so...</td>\n",
       "      <td>0.7096</td>\n",
       "      <td>trafic_qui GPEfournisseur_de_solutions_de_s_cu...</td>\n",
       "    </tr>\n",
       "    <tr>\n",
       "      <th>740</th>\n",
       "      <td>Les podcast Radio DSI, Radio DCmag et les micr...</td>\n",
       "      <td>0.7003</td>\n",
       "      <td>radio_dsi ORGradio_dcmag ORGdatacenter_magazin...</td>\n",
       "    </tr>\n",
       "    <tr>\n",
       "      <th>763</th>\n",
       "      <td>Facebook indique ainsi que sa panne aurait eu ...</td>\n",
       "      <td>0.2263</td>\n",
       "      <td>aurait_eu_pour PERSONdans NORPqui ORGun_mauvai...</td>\n",
       "    </tr>\n",
       "    <tr>\n",
       "      <th>790</th>\n",
       "      <td>Ils ont perdu environ 5-6% en bourse pendant q...</td>\n",
       "      <td>0.4939</td>\n",
       "      <td>5_6_ PERCENTc_tait GPEsur_instagram_et_faceboo...</td>\n",
       "    </tr>\n",
       "    <tr>\n",
       "      <th>814</th>\n",
       "      <td>Black Friday Amazon : le TOP des offres Tech p...</td>\n",
       "      <td>0.4995</td>\n",
       "      <td>tech GPE</td>\n",
       "    </tr>\n",
       "  </tbody>\n",
       "</table>\n",
       "<p>88 rows × 3 columns</p>\n",
       "</div>"
      ],
      "text/plain": [
       "                                                  Avis  Sentiment  \\\n",
       "5    Grace à la panne mondiale que subit actuelleme...     0.5574   \n",
       "30   #Pannefacebook#webgospel#webdaysedition2 Selon...     0.3400   \n",
       "31   Happiness FM: Franck Mansuy  Formateur - Anima...     0.5574   \n",
       "33   La panne géante des réseaux sociaux vous a cer...     0.8020   \n",
       "38   #IdéesReçues #CasSociaux #PanneFacebook Le myt...     0.4738   \n",
       "..                                                 ...        ...   \n",
       "738  La pépite française EfficientIP annonce une so...     0.7096   \n",
       "740  Les podcast Radio DSI, Radio DCmag et les micr...     0.7003   \n",
       "763  Facebook indique ainsi que sa panne aurait eu ...     0.2263   \n",
       "790  Ils ont perdu environ 5-6% en bourse pendant q...     0.4939   \n",
       "814  Black Friday Amazon : le TOP des offres Tech p...     0.4995   \n",
       "\n",
       "                                              entities  \n",
       "5     10 CARDINALd_ailleurs PERSON2 CARDINAL_ CARDINAL  \n",
       "30   pannefacebook_webgospel_webdaysedition2_selon ...  \n",
       "31                   franck_mansuy PERSONformateur ORG  \n",
       "33   jouer_des_jeux_de_soci_t_ ORGdans NORPqui GPEc...  \n",
       "38   pannefacebook_le PRODUCTmais_la_panne PERSONal...  \n",
       "..                                                 ...  \n",
       "738  trafic_qui GPEfournisseur_de_solutions_de_s_cu...  \n",
       "740  radio_dsi ORGradio_dcmag ORGdatacenter_magazin...  \n",
       "763  aurait_eu_pour PERSONdans NORPqui ORGun_mauvai...  \n",
       "790  5_6_ PERCENTc_tait GPEsur_instagram_et_faceboo...  \n",
       "814                                           tech GPE  \n",
       "\n",
       "[88 rows x 3 columns]"
      ]
     },
     "execution_count": 78,
     "metadata": {},
     "output_type": "execute_result"
    }
   ],
   "source": [
    "sentiment_positif = df[df['Sentiment']>0]\n",
    "sentiment_positif"
   ]
  },
  {
   "cell_type": "markdown",
   "metadata": {},
   "source": [
    "### Pourcentage des sentiments positifs"
   ]
  },
  {
   "cell_type": "code",
   "execution_count": 79,
   "metadata": {},
   "outputs": [
    {
     "name": "stdout",
     "output_type": "stream",
     "text": [
      "LES UTILISATEURS SONT PESSIMISTES A 10.60 %\n"
     ]
    }
   ],
   "source": [
    "pourcentage_sentiment_positif = (len(sentiment_positif)/len(df))*100\n",
    "print(\"LES UTILISATEURS SONT PESSIMISTES A {:.2f} %\".format(pourcentage_sentiment_positif))"
   ]
  },
  {
   "cell_type": "markdown",
   "metadata": {},
   "source": [
    "## Sentiments neutres des utilisateurs sur les réseaux sociaux"
   ]
  },
  {
   "cell_type": "code",
   "execution_count": 83,
   "metadata": {},
   "outputs": [
    {
     "data": {
      "text/html": [
       "<div>\n",
       "<style scoped>\n",
       "    .dataframe tbody tr th:only-of-type {\n",
       "        vertical-align: middle;\n",
       "    }\n",
       "\n",
       "    .dataframe tbody tr th {\n",
       "        vertical-align: top;\n",
       "    }\n",
       "\n",
       "    .dataframe thead th {\n",
       "        text-align: right;\n",
       "    }\n",
       "</style>\n",
       "<table border=\"1\" class=\"dataframe\">\n",
       "  <thead>\n",
       "    <tr style=\"text-align: right;\">\n",
       "      <th></th>\n",
       "      <th>Avis</th>\n",
       "      <th>Sentiment</th>\n",
       "      <th>entities</th>\n",
       "    </tr>\n",
       "  </thead>\n",
       "  <tbody>\n",
       "    <tr>\n",
       "      <th>1</th>\n",
       "      <td>Complètement MALADEAchat Local Haut-Richelieu ...</td>\n",
       "      <td>0.0</td>\n",
       "      <td></td>\n",
       "    </tr>\n",
       "    <tr>\n",
       "      <th>2</th>\n",
       "      <td>· t1t5 35S71ot5pglo8ct1onams2mo0ar77ebtdre95...</td>\n",
       "      <td>0.0</td>\n",
       "      <td>partag_ GPEgroupe ORG</td>\n",
       "    </tr>\n",
       "    <tr>\n",
       "      <th>3</th>\n",
       "      <td>Durant cette pause forcée de Facebook, je me d...</td>\n",
       "      <td>0.0</td>\n",
       "      <td>de_facebook PERSONpannefacebook ORG</td>\n",
       "    </tr>\n",
       "    <tr>\n",
       "      <th>4</th>\n",
       "      <td>· t1t1335S71 t5pglo8ma1rnsms 2o0ar77e0td1995...</td>\n",
       "      <td>0.0</td>\n",
       "      <td>2o0ar77e0td1995 CARDINALpartag_ GPE</td>\n",
       "    </tr>\n",
       "    <tr>\n",
       "      <th>6</th>\n",
       "      <td>NaNo DanielAsso VDR \"Voyager dos à la route\" (...</td>\n",
       "      <td>0.0</td>\n",
       "      <td>nano PERSON</td>\n",
       "    </tr>\n",
       "    <tr>\n",
       "      <th>...</th>\n",
       "      <td>...</td>\n",
       "      <td>...</td>\n",
       "      <td>...</td>\n",
       "    </tr>\n",
       "    <tr>\n",
       "      <th>825</th>\n",
       "      <td>Stéphane Richard démissionne de son poste de P...</td>\n",
       "      <td>0.0</td>\n",
       "      <td>st_phane_richard PERSONd_missionne_de_son PERS...</td>\n",
       "    </tr>\n",
       "    <tr>\n",
       "      <th>826</th>\n",
       "      <td>iPhone 13, Apple Watch Series 6, AirPods Pro… ...</td>\n",
       "      <td>0.0</td>\n",
       "      <td>13 CARDINALapple_watch_series ORG6 CARDINALair...</td>\n",
       "    </tr>\n",
       "    <tr>\n",
       "      <th>827</th>\n",
       "      <td>Rejoignez la discussion</td>\n",
       "      <td>0.0</td>\n",
       "      <td>rejoignez NORP</td>\n",
       "    </tr>\n",
       "    <tr>\n",
       "      <th>828</th>\n",
       "      <td>À propos • Mentions légales • Contacts • Archives</td>\n",
       "      <td>0.0</td>\n",
       "      <td>_mentions ORG</td>\n",
       "    </tr>\n",
       "    <tr>\n",
       "      <th>829</th>\n",
       "      <td>Humanoid © 2021 - Frandroid, tous droits réservés</td>\n",
       "      <td>0.0</td>\n",
       "      <td>humanoid_ PERSON</td>\n",
       "    </tr>\n",
       "  </tbody>\n",
       "</table>\n",
       "<p>675 rows × 3 columns</p>\n",
       "</div>"
      ],
      "text/plain": [
       "                                                  Avis  Sentiment  \\\n",
       "1    Complètement MALADEAchat Local Haut-Richelieu ...        0.0   \n",
       "2      · t1t5 35S71ot5pglo8ct1onams2mo0ar77ebtdre95...        0.0   \n",
       "3    Durant cette pause forcée de Facebook, je me d...        0.0   \n",
       "4      · t1t1335S71 t5pglo8ma1rnsms 2o0ar77e0td1995...        0.0   \n",
       "6    NaNo DanielAsso VDR \"Voyager dos à la route\" (...        0.0   \n",
       "..                                                 ...        ...   \n",
       "825  Stéphane Richard démissionne de son poste de P...        0.0   \n",
       "826  iPhone 13, Apple Watch Series 6, AirPods Pro… ...        0.0   \n",
       "827                       Rejoignez la discussion             0.0   \n",
       "828  À propos • Mentions légales • Contacts • Archives        0.0   \n",
       "829  Humanoid © 2021 - Frandroid, tous droits réservés        0.0   \n",
       "\n",
       "                                              entities  \n",
       "1                                                       \n",
       "2                                partag_ GPEgroupe ORG  \n",
       "3                  de_facebook PERSONpannefacebook ORG  \n",
       "4                  2o0ar77e0td1995 CARDINALpartag_ GPE  \n",
       "6                                          nano PERSON  \n",
       "..                                                 ...  \n",
       "825  st_phane_richard PERSONd_missionne_de_son PERS...  \n",
       "826  13 CARDINALapple_watch_series ORG6 CARDINALair...  \n",
       "827                                     rejoignez NORP  \n",
       "828                                      _mentions ORG  \n",
       "829                                   humanoid_ PERSON  \n",
       "\n",
       "[675 rows x 3 columns]"
      ]
     },
     "execution_count": 83,
     "metadata": {},
     "output_type": "execute_result"
    }
   ],
   "source": [
    "sentiment_neutre = df[df['Sentiment']==0]\n",
    "sentiment_neutre"
   ]
  },
  {
   "cell_type": "markdown",
   "metadata": {},
   "source": [
    "## Pourcentage des sentiments neutres"
   ]
  },
  {
   "cell_type": "code",
   "execution_count": 84,
   "metadata": {},
   "outputs": [
    {
     "name": "stdout",
     "output_type": "stream",
     "text": [
      "LES UTILISATEURS SONT PESSIMISTES A 81.33 %\n"
     ]
    }
   ],
   "source": [
    "pourcentage_sentiment_neutre = (len(sentiment_neutre)/len(df))*100\n",
    "print(\"LES UTILISATEURS SONT PESSIMISTES A {:.2f} %\".format(pourcentage_sentiment_neutre))"
   ]
  },
  {
   "cell_type": "markdown",
   "metadata": {},
   "source": [
    "###### De ces constats, nous pouvons conclure que les utilisateurs sont dans une position de mefiance, c'est à dire \n",
    "###### le moment de se remttre en question sur dependances de facebook et ses filliale."
   ]
  },
  {
   "cell_type": "markdown",
   "metadata": {},
   "source": [
    "##  Perceptive"
   ]
  },
  {
   "cell_type": "markdown",
   "metadata": {},
   "source": [
    "#### On pourrait aller plus encore en servant des enties: par nous pouvons chercher des pays plus \n",
    "#### de mention ou le contraire ou encore parmi les négative combien de fois le fondateur cité .........."
   ]
  },
  {
   "cell_type": "code",
   "execution_count": 134,
   "metadata": {},
   "outputs": [
    {
     "name": "stdout",
     "output_type": "stream",
     "text": [
      "Sur 67 négatif les français ont négativement sur facebook de 1\n"
     ]
    }
   ],
   "source": [
    "import re\n",
    "\n",
    "france_neg = []\n",
    "\n",
    "for w in df[df['Sentiment']<0].iloc[:, -1]: \n",
    "    if 'france' in w.lower():\n",
    "        france_neg.append(w)\n",
    "    \n",
    "print('Sur {} négatif(s) les français ont négativement parlés sur facebook {} fois'.format(\n",
    "    len(df[df['Sentiment']<0].iloc[:, -1]),\n",
    "    len(france_neg)\n",
    "))"
   ]
  },
  {
   "cell_type": "code",
   "execution_count": 136,
   "metadata": {},
   "outputs": [
    {
     "name": "stdout",
     "output_type": "stream",
     "text": [
      "Sur 88 positif(s) les français ont positifivement parlés sur facebook 4 fois\n"
     ]
    }
   ],
   "source": [
    "france_pos = []\n",
    "\n",
    "for w in df[df['Sentiment']>0].iloc[:, -1]: \n",
    "    if 'france' in w.lower():\n",
    "        france_pos.append(w)\n",
    "    \n",
    "france_pos\n",
    "\n",
    "print('Sur {} positif(s) les français ont positifivement parlés sur facebook {} fois'.format(\n",
    "    len(df[df['Sentiment']>0].iloc[:, -1]),\n",
    "    len(france_pos)\n",
    "))"
   ]
  },
  {
   "cell_type": "code",
   "execution_count": 138,
   "metadata": {},
   "outputs": [
    {
     "name": "stdout",
     "output_type": "stream",
     "text": [
      "Sur 675 neutre(s) les français ont  parlés de façon sur facebook 4 fois\n"
     ]
    }
   ],
   "source": [
    "france_neutre = []\n",
    "\n",
    "for w in df[df['Sentiment']>0].iloc[:, -1]: \n",
    "    if 'france' in w.lower():\n",
    "        france_neutre.append(w)\n",
    "    \n",
    "france_neutre\n",
    "\n",
    "print('Sur {} neutre(s) les français ont  parlés de façon sur facebook {} fois'.format(\n",
    "    len(df[df['Sentiment']==0].iloc[:, -1]),\n",
    "    len(france_neutre)\n",
    "))"
   ]
  },
  {
   "cell_type": "code",
   "execution_count": 139,
   "metadata": {},
   "outputs": [
    {
     "name": "stdout",
     "output_type": "stream",
     "text": [
      "Sur 830 avis les français ont  réagi 9 fois\n"
     ]
    }
   ],
   "source": [
    "print('Sur {} avis les français ont  réagi {} fois'.format(\n",
    "    len(df),\n",
    "    len(france_neutre)+len(france_neg) + len(france_pos)\n",
    "))"
   ]
  },
  {
   "cell_type": "code",
   "execution_count": null,
   "metadata": {},
   "outputs": [],
   "source": []
  }
 ],
 "metadata": {
  "kernelspec": {
   "display_name": "Python 3",
   "language": "python",
   "name": "python3"
  },
  "language_info": {
   "codemirror_mode": {
    "name": "ipython",
    "version": 3
   },
   "file_extension": ".py",
   "mimetype": "text/x-python",
   "name": "python",
   "nbconvert_exporter": "python",
   "pygments_lexer": "ipython3",
   "version": "3.8.5"
  }
 },
 "nbformat": 4,
 "nbformat_minor": 4
}
